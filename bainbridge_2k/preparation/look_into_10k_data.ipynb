{
 "cells": [
  {
   "cell_type": "markdown",
   "metadata": {},
   "source": [
    "look into the labels file"
   ]
  },
  {
   "cell_type": "code",
   "execution_count": 4,
   "metadata": {},
   "outputs": [],
   "source": [
    "import pandas as pd\n",
    "import numpy as np"
   ]
  },
  {
   "cell_type": "code",
   "execution_count": 5,
   "metadata": {},
   "outputs": [
    {
     "data": {
      "text/plain": [
       "(2222, 22)"
      ]
     },
     "execution_count": 5,
     "metadata": {},
     "output_type": "execute_result"
    }
   ],
   "source": [
    "dfs = pd.read_excel('../data/bainbridge_10k/labels10k.xlsx', sheet_name='Final Values')\n",
    "dfs.shape"
   ]
  },
  {
   "cell_type": "markdown",
   "metadata": {},
   "source": [
    "This is not a file with 10k labels!"
   ]
  },
  {
   "cell_type": "code",
   "execution_count": 6,
   "metadata": {},
   "outputs": [
    {
     "data": {
      "text/plain": [
       "<bound method NDFrame.head of                                     Filename  Gender       Age  Race\n",
       "0         Google_1_Danielle Goble_5_oval.jpg       1  3.000000     1\n",
       "1        Google_1_Phillip Owensby_9_oval.jpg       0  4.000000     1\n",
       "2        Google_1_Douglas Ziegler_3_oval.jpg       1  3.166667     1\n",
       "3          Google_1_Donald Sauls_11_oval.jpg       1  3.083333     2\n",
       "4            Google_1_Eric Harman_5_oval.jpg       1  2.833333     6\n",
       "...                                      ...     ...       ...   ...\n",
       "2217  Google_1_Alison Summerville_3_oval.jpg       0  1.916667     5\n",
       "2218         Google_1_Douglas Yun_3_oval.jpg       0  2.166667     3\n",
       "2219       Google_1_Wayne Barrios_9_oval.jpg       1  3.083333     1\n",
       "2220   Google_1_Jennie Kissinger_15_oval.jpg       0  2.500000     1\n",
       "2221         Google_1_Eileen Burd_7_oval.jpg       0  2.750000     1\n",
       "\n",
       "[2222 rows x 4 columns]>"
      ]
     },
     "execution_count": 6,
     "metadata": {},
     "output_type": "execute_result"
    }
   ],
   "source": [
    "dfs1 = dfs[['Filename','Gender','Age','Race']]\n",
    "# dfs1.index\n",
    "dfs1.head"
   ]
  },
  {
   "cell_type": "code",
   "execution_count": 7,
   "metadata": {},
   "outputs": [
    {
     "data": {
      "text/html": [
       "<div>\n",
       "<style scoped>\n",
       "    .dataframe tbody tr th:only-of-type {\n",
       "        vertical-align: middle;\n",
       "    }\n",
       "\n",
       "    .dataframe tbody tr th {\n",
       "        vertical-align: top;\n",
       "    }\n",
       "\n",
       "    .dataframe thead th {\n",
       "        text-align: right;\n",
       "    }\n",
       "</style>\n",
       "<table border=\"1\" class=\"dataframe\">\n",
       "  <thead>\n",
       "    <tr style=\"text-align: right;\">\n",
       "      <th></th>\n",
       "      <th>Filename</th>\n",
       "      <th>Gender</th>\n",
       "      <th>Age</th>\n",
       "      <th>Race</th>\n",
       "    </tr>\n",
       "  </thead>\n",
       "  <tbody>\n",
       "    <tr>\n",
       "      <th>0</th>\n",
       "      <td>Google_1_Danielle Goble_5_oval.jpg</td>\n",
       "      <td>1</td>\n",
       "      <td>3.000000</td>\n",
       "      <td>1</td>\n",
       "    </tr>\n",
       "    <tr>\n",
       "      <th>1</th>\n",
       "      <td>Google_1_Phillip Owensby_9_oval.jpg</td>\n",
       "      <td>0</td>\n",
       "      <td>4.000000</td>\n",
       "      <td>1</td>\n",
       "    </tr>\n",
       "    <tr>\n",
       "      <th>2</th>\n",
       "      <td>Google_1_Douglas Ziegler_3_oval.jpg</td>\n",
       "      <td>1</td>\n",
       "      <td>3.166667</td>\n",
       "      <td>1</td>\n",
       "    </tr>\n",
       "    <tr>\n",
       "      <th>3</th>\n",
       "      <td>Google_1_Donald Sauls_11_oval.jpg</td>\n",
       "      <td>1</td>\n",
       "      <td>3.083333</td>\n",
       "      <td>2</td>\n",
       "    </tr>\n",
       "    <tr>\n",
       "      <th>4</th>\n",
       "      <td>Google_1_Eric Harman_5_oval.jpg</td>\n",
       "      <td>1</td>\n",
       "      <td>2.833333</td>\n",
       "      <td>6</td>\n",
       "    </tr>\n",
       "    <tr>\n",
       "      <th>...</th>\n",
       "      <td>...</td>\n",
       "      <td>...</td>\n",
       "      <td>...</td>\n",
       "      <td>...</td>\n",
       "    </tr>\n",
       "    <tr>\n",
       "      <th>2217</th>\n",
       "      <td>Google_1_Alison Summerville_3_oval.jpg</td>\n",
       "      <td>0</td>\n",
       "      <td>1.916667</td>\n",
       "      <td>5</td>\n",
       "    </tr>\n",
       "    <tr>\n",
       "      <th>2218</th>\n",
       "      <td>Google_1_Douglas Yun_3_oval.jpg</td>\n",
       "      <td>0</td>\n",
       "      <td>2.166667</td>\n",
       "      <td>3</td>\n",
       "    </tr>\n",
       "    <tr>\n",
       "      <th>2219</th>\n",
       "      <td>Google_1_Wayne Barrios_9_oval.jpg</td>\n",
       "      <td>1</td>\n",
       "      <td>3.083333</td>\n",
       "      <td>1</td>\n",
       "    </tr>\n",
       "    <tr>\n",
       "      <th>2220</th>\n",
       "      <td>Google_1_Jennie Kissinger_15_oval.jpg</td>\n",
       "      <td>0</td>\n",
       "      <td>2.500000</td>\n",
       "      <td>1</td>\n",
       "    </tr>\n",
       "    <tr>\n",
       "      <th>2221</th>\n",
       "      <td>Google_1_Eileen Burd_7_oval.jpg</td>\n",
       "      <td>0</td>\n",
       "      <td>2.750000</td>\n",
       "      <td>1</td>\n",
       "    </tr>\n",
       "  </tbody>\n",
       "</table>\n",
       "<p>2222 rows × 4 columns</p>\n",
       "</div>"
      ],
      "text/plain": [
       "                                    Filename  Gender       Age  Race\n",
       "0         Google_1_Danielle Goble_5_oval.jpg       1  3.000000     1\n",
       "1        Google_1_Phillip Owensby_9_oval.jpg       0  4.000000     1\n",
       "2        Google_1_Douglas Ziegler_3_oval.jpg       1  3.166667     1\n",
       "3          Google_1_Donald Sauls_11_oval.jpg       1  3.083333     2\n",
       "4            Google_1_Eric Harman_5_oval.jpg       1  2.833333     6\n",
       "...                                      ...     ...       ...   ...\n",
       "2217  Google_1_Alison Summerville_3_oval.jpg       0  1.916667     5\n",
       "2218         Google_1_Douglas Yun_3_oval.jpg       0  2.166667     3\n",
       "2219       Google_1_Wayne Barrios_9_oval.jpg       1  3.083333     1\n",
       "2220   Google_1_Jennie Kissinger_15_oval.jpg       0  2.500000     1\n",
       "2221         Google_1_Eileen Burd_7_oval.jpg       0  2.750000     1\n",
       "\n",
       "[2222 rows x 4 columns]"
      ]
     },
     "execution_count": 7,
     "metadata": {},
     "output_type": "execute_result"
    }
   ],
   "source": [
    "dfs1"
   ]
  },
  {
   "cell_type": "markdown",
   "metadata": {},
   "source": [
    "Remove white spaces"
   ]
  },
  {
   "cell_type": "code",
   "execution_count": 88,
   "metadata": {},
   "outputs": [
    {
     "data": {
      "text/html": [
       "<div>\n",
       "<style scoped>\n",
       "    .dataframe tbody tr th:only-of-type {\n",
       "        vertical-align: middle;\n",
       "    }\n",
       "\n",
       "    .dataframe tbody tr th {\n",
       "        vertical-align: top;\n",
       "    }\n",
       "\n",
       "    .dataframe thead th {\n",
       "        text-align: right;\n",
       "    }\n",
       "</style>\n",
       "<table border=\"1\" class=\"dataframe\">\n",
       "  <thead>\n",
       "    <tr style=\"text-align: right;\">\n",
       "      <th></th>\n",
       "      <th>Filename</th>\n",
       "      <th>Gender</th>\n",
       "      <th>Age</th>\n",
       "      <th>Race</th>\n",
       "    </tr>\n",
       "  </thead>\n",
       "  <tbody>\n",
       "    <tr>\n",
       "      <th>0</th>\n",
       "      <td>Google_1_DanielleGoble_5_oval.jpg</td>\n",
       "      <td>1</td>\n",
       "      <td>3.000000</td>\n",
       "      <td>1</td>\n",
       "    </tr>\n",
       "    <tr>\n",
       "      <th>1</th>\n",
       "      <td>Google_1_PhillipOwensby_9_oval.jpg</td>\n",
       "      <td>0</td>\n",
       "      <td>4.000000</td>\n",
       "      <td>1</td>\n",
       "    </tr>\n",
       "    <tr>\n",
       "      <th>2</th>\n",
       "      <td>Google_1_DouglasZiegler_3_oval.jpg</td>\n",
       "      <td>1</td>\n",
       "      <td>3.166667</td>\n",
       "      <td>1</td>\n",
       "    </tr>\n",
       "    <tr>\n",
       "      <th>3</th>\n",
       "      <td>Google_1_DonaldSauls_11_oval.jpg</td>\n",
       "      <td>1</td>\n",
       "      <td>3.083333</td>\n",
       "      <td>2</td>\n",
       "    </tr>\n",
       "    <tr>\n",
       "      <th>4</th>\n",
       "      <td>Google_1_EricHarman_5_oval.jpg</td>\n",
       "      <td>1</td>\n",
       "      <td>2.833333</td>\n",
       "      <td>6</td>\n",
       "    </tr>\n",
       "  </tbody>\n",
       "</table>\n",
       "</div>"
      ],
      "text/plain": [
       "                             Filename  Gender       Age  Race\n",
       "0   Google_1_DanielleGoble_5_oval.jpg       1  3.000000     1\n",
       "1  Google_1_PhillipOwensby_9_oval.jpg       0  4.000000     1\n",
       "2  Google_1_DouglasZiegler_3_oval.jpg       1  3.166667     1\n",
       "3    Google_1_DonaldSauls_11_oval.jpg       1  3.083333     2\n",
       "4      Google_1_EricHarman_5_oval.jpg       1  2.833333     6"
      ]
     },
     "execution_count": 88,
     "metadata": {},
     "output_type": "execute_result"
    }
   ],
   "source": [
    "# copy and work with copy\n",
    "dfs2 = dfs1.copy()\n",
    "\n",
    "for i in range(dfs1.shape[0]):\n",
    "    dfs2.loc[i, 'Filename'] = dfs1.loc[i,'Filename'].replace(\" \",\"\")\n",
    "dfs2.head()"
   ]
  },
  {
   "cell_type": "code",
   "execution_count": 92,
   "metadata": {},
   "outputs": [
    {
     "data": {
      "text/html": [
       "<div>\n",
       "<style scoped>\n",
       "    .dataframe tbody tr th:only-of-type {\n",
       "        vertical-align: middle;\n",
       "    }\n",
       "\n",
       "    .dataframe tbody tr th {\n",
       "        vertical-align: top;\n",
       "    }\n",
       "\n",
       "    .dataframe thead th {\n",
       "        text-align: right;\n",
       "    }\n",
       "</style>\n",
       "<table border=\"1\" class=\"dataframe\">\n",
       "  <thead>\n",
       "    <tr style=\"text-align: right;\">\n",
       "      <th></th>\n",
       "      <th>Filename</th>\n",
       "      <th>Gender</th>\n",
       "      <th>Age</th>\n",
       "      <th>Race</th>\n",
       "    </tr>\n",
       "  </thead>\n",
       "  <tbody>\n",
       "    <tr>\n",
       "      <th>0</th>\n",
       "      <td>Google_1_DanielleGoble_5_oval.jpg</td>\n",
       "      <td>1</td>\n",
       "      <td>3.000000</td>\n",
       "      <td>1</td>\n",
       "    </tr>\n",
       "    <tr>\n",
       "      <th>1</th>\n",
       "      <td>Google_1_PhillipOwensby_9_oval.jpg</td>\n",
       "      <td>0</td>\n",
       "      <td>4.000000</td>\n",
       "      <td>1</td>\n",
       "    </tr>\n",
       "    <tr>\n",
       "      <th>2</th>\n",
       "      <td>Google_1_DouglasZiegler_3_oval.jpg</td>\n",
       "      <td>1</td>\n",
       "      <td>3.166667</td>\n",
       "      <td>1</td>\n",
       "    </tr>\n",
       "    <tr>\n",
       "      <th>3</th>\n",
       "      <td>Google_1_DonaldSauls_11_oval.jpg</td>\n",
       "      <td>1</td>\n",
       "      <td>3.083333</td>\n",
       "      <td>2</td>\n",
       "    </tr>\n",
       "    <tr>\n",
       "      <th>4</th>\n",
       "      <td>Google_1_EricHarman_5_oval.jpg</td>\n",
       "      <td>1</td>\n",
       "      <td>2.833333</td>\n",
       "      <td>6</td>\n",
       "    </tr>\n",
       "    <tr>\n",
       "      <th>...</th>\n",
       "      <td>...</td>\n",
       "      <td>...</td>\n",
       "      <td>...</td>\n",
       "      <td>...</td>\n",
       "    </tr>\n",
       "    <tr>\n",
       "      <th>2217</th>\n",
       "      <td>Google_1_AlisonSummerville_3_oval.jpg</td>\n",
       "      <td>0</td>\n",
       "      <td>1.916667</td>\n",
       "      <td>5</td>\n",
       "    </tr>\n",
       "    <tr>\n",
       "      <th>2218</th>\n",
       "      <td>Google_1_DouglasYun_3_oval.jpg</td>\n",
       "      <td>0</td>\n",
       "      <td>2.166667</td>\n",
       "      <td>3</td>\n",
       "    </tr>\n",
       "    <tr>\n",
       "      <th>2219</th>\n",
       "      <td>Google_1_WayneBarrios_9_oval.jpg</td>\n",
       "      <td>1</td>\n",
       "      <td>3.083333</td>\n",
       "      <td>1</td>\n",
       "    </tr>\n",
       "    <tr>\n",
       "      <th>2220</th>\n",
       "      <td>Google_1_JennieKissinger_15_oval.jpg</td>\n",
       "      <td>0</td>\n",
       "      <td>2.500000</td>\n",
       "      <td>1</td>\n",
       "    </tr>\n",
       "    <tr>\n",
       "      <th>2221</th>\n",
       "      <td>Google_1_EileenBurd_7_oval.jpg</td>\n",
       "      <td>0</td>\n",
       "      <td>2.750000</td>\n",
       "      <td>1</td>\n",
       "    </tr>\n",
       "  </tbody>\n",
       "</table>\n",
       "<p>2222 rows × 4 columns</p>\n",
       "</div>"
      ],
      "text/plain": [
       "                                   Filename  Gender       Age  Race\n",
       "0         Google_1_DanielleGoble_5_oval.jpg       1  3.000000     1\n",
       "1        Google_1_PhillipOwensby_9_oval.jpg       0  4.000000     1\n",
       "2        Google_1_DouglasZiegler_3_oval.jpg       1  3.166667     1\n",
       "3          Google_1_DonaldSauls_11_oval.jpg       1  3.083333     2\n",
       "4            Google_1_EricHarman_5_oval.jpg       1  2.833333     6\n",
       "...                                     ...     ...       ...   ...\n",
       "2217  Google_1_AlisonSummerville_3_oval.jpg       0  1.916667     5\n",
       "2218         Google_1_DouglasYun_3_oval.jpg       0  2.166667     3\n",
       "2219       Google_1_WayneBarrios_9_oval.jpg       1  3.083333     1\n",
       "2220   Google_1_JennieKissinger_15_oval.jpg       0  2.500000     1\n",
       "2221         Google_1_EileenBurd_7_oval.jpg       0  2.750000     1\n",
       "\n",
       "[2222 rows x 4 columns]"
      ]
     },
     "execution_count": 92,
     "metadata": {},
     "output_type": "execute_result"
    }
   ],
   "source": [
    "dfs2"
   ]
  },
  {
   "cell_type": "code",
   "execution_count": 95,
   "metadata": {},
   "outputs": [],
   "source": [
    "dfs2.to_csv('labels2k_ws_no.csv',index=False)"
   ]
  },
  {
   "cell_type": "code",
   "execution_count": 96,
   "metadata": {},
   "outputs": [],
   "source": [
    "dfs1.to_csv('labels2k_ws_yes.csv',index=False)"
   ]
  },
  {
   "cell_type": "markdown",
   "metadata": {},
   "source": [
    "Do the Filenames from the labels file really correspond to images in the folder ??"
   ]
  },
  {
   "cell_type": "code",
   "execution_count": 93,
   "metadata": {},
   "outputs": [
    {
     "name": "stderr",
     "output_type": "stream",
     "text": [
      "/opt/conda/lib/python3.7/site-packages/ipykernel_launcher.py:1: SettingWithCopyWarning: \n",
      "A value is trying to be set on a copy of a slice from a DataFrame\n",
      "\n",
      "See the caveats in the documentation: https://pandas.pydata.org/pandas-docs/stable/user_guide/indexing.html#returning-a-view-versus-a-copy\n",
      "  \"\"\"Entry point for launching an IPython kernel.\n",
      "/opt/conda/lib/python3.7/site-packages/pandas/core/indexing.py:671: SettingWithCopyWarning: \n",
      "A value is trying to be set on a copy of a slice from a DataFrame\n",
      "\n",
      "See the caveats in the documentation: https://pandas.pydata.org/pandas-docs/stable/user_guide/indexing.html#returning-a-view-versus-a-copy\n",
      "  self._setitem_with_indexer(indexer, value)\n"
     ]
    }
   ],
   "source": [
    "dfs2.iloc[0]['found']=1 # not working"
   ]
  },
  {
   "cell_type": "code",
   "execution_count": 94,
   "metadata": {},
   "outputs": [
    {
     "data": {
      "text/html": [
       "<div>\n",
       "<style scoped>\n",
       "    .dataframe tbody tr th:only-of-type {\n",
       "        vertical-align: middle;\n",
       "    }\n",
       "\n",
       "    .dataframe tbody tr th {\n",
       "        vertical-align: top;\n",
       "    }\n",
       "\n",
       "    .dataframe thead th {\n",
       "        text-align: right;\n",
       "    }\n",
       "</style>\n",
       "<table border=\"1\" class=\"dataframe\">\n",
       "  <thead>\n",
       "    <tr style=\"text-align: right;\">\n",
       "      <th></th>\n",
       "      <th>Filename</th>\n",
       "      <th>Gender</th>\n",
       "      <th>Age</th>\n",
       "      <th>Race</th>\n",
       "    </tr>\n",
       "  </thead>\n",
       "  <tbody>\n",
       "    <tr>\n",
       "      <th>0</th>\n",
       "      <td>Google_1_DanielleGoble_5_oval.jpg</td>\n",
       "      <td>1</td>\n",
       "      <td>3.000000</td>\n",
       "      <td>1</td>\n",
       "    </tr>\n",
       "    <tr>\n",
       "      <th>1</th>\n",
       "      <td>Google_1_PhillipOwensby_9_oval.jpg</td>\n",
       "      <td>0</td>\n",
       "      <td>4.000000</td>\n",
       "      <td>1</td>\n",
       "    </tr>\n",
       "    <tr>\n",
       "      <th>2</th>\n",
       "      <td>Google_1_DouglasZiegler_3_oval.jpg</td>\n",
       "      <td>1</td>\n",
       "      <td>3.166667</td>\n",
       "      <td>1</td>\n",
       "    </tr>\n",
       "    <tr>\n",
       "      <th>3</th>\n",
       "      <td>Google_1_DonaldSauls_11_oval.jpg</td>\n",
       "      <td>1</td>\n",
       "      <td>3.083333</td>\n",
       "      <td>2</td>\n",
       "    </tr>\n",
       "    <tr>\n",
       "      <th>4</th>\n",
       "      <td>Google_1_EricHarman_5_oval.jpg</td>\n",
       "      <td>1</td>\n",
       "      <td>2.833333</td>\n",
       "      <td>6</td>\n",
       "    </tr>\n",
       "    <tr>\n",
       "      <th>...</th>\n",
       "      <td>...</td>\n",
       "      <td>...</td>\n",
       "      <td>...</td>\n",
       "      <td>...</td>\n",
       "    </tr>\n",
       "    <tr>\n",
       "      <th>2217</th>\n",
       "      <td>Google_1_AlisonSummerville_3_oval.jpg</td>\n",
       "      <td>0</td>\n",
       "      <td>1.916667</td>\n",
       "      <td>5</td>\n",
       "    </tr>\n",
       "    <tr>\n",
       "      <th>2218</th>\n",
       "      <td>Google_1_DouglasYun_3_oval.jpg</td>\n",
       "      <td>0</td>\n",
       "      <td>2.166667</td>\n",
       "      <td>3</td>\n",
       "    </tr>\n",
       "    <tr>\n",
       "      <th>2219</th>\n",
       "      <td>Google_1_WayneBarrios_9_oval.jpg</td>\n",
       "      <td>1</td>\n",
       "      <td>3.083333</td>\n",
       "      <td>1</td>\n",
       "    </tr>\n",
       "    <tr>\n",
       "      <th>2220</th>\n",
       "      <td>Google_1_JennieKissinger_15_oval.jpg</td>\n",
       "      <td>0</td>\n",
       "      <td>2.500000</td>\n",
       "      <td>1</td>\n",
       "    </tr>\n",
       "    <tr>\n",
       "      <th>2221</th>\n",
       "      <td>Google_1_EileenBurd_7_oval.jpg</td>\n",
       "      <td>0</td>\n",
       "      <td>2.750000</td>\n",
       "      <td>1</td>\n",
       "    </tr>\n",
       "  </tbody>\n",
       "</table>\n",
       "<p>2222 rows × 4 columns</p>\n",
       "</div>"
      ],
      "text/plain": [
       "                                   Filename  Gender       Age  Race\n",
       "0         Google_1_DanielleGoble_5_oval.jpg       1  3.000000     1\n",
       "1        Google_1_PhillipOwensby_9_oval.jpg       0  4.000000     1\n",
       "2        Google_1_DouglasZiegler_3_oval.jpg       1  3.166667     1\n",
       "3          Google_1_DonaldSauls_11_oval.jpg       1  3.083333     2\n",
       "4            Google_1_EricHarman_5_oval.jpg       1  2.833333     6\n",
       "...                                     ...     ...       ...   ...\n",
       "2217  Google_1_AlisonSummerville_3_oval.jpg       0  1.916667     5\n",
       "2218         Google_1_DouglasYun_3_oval.jpg       0  2.166667     3\n",
       "2219       Google_1_WayneBarrios_9_oval.jpg       1  3.083333     1\n",
       "2220   Google_1_JennieKissinger_15_oval.jpg       0  2.500000     1\n",
       "2221         Google_1_EileenBurd_7_oval.jpg       0  2.750000     1\n",
       "\n",
       "[2222 rows x 4 columns]"
      ]
     },
     "execution_count": 94,
     "metadata": {},
     "output_type": "execute_result"
    }
   ],
   "source": [
    "dfs2"
   ]
  },
  {
   "cell_type": "code",
   "execution_count": null,
   "metadata": {},
   "outputs": [],
   "source": [
    "# go throu folder with images\n",
    "\n",
    "# for the filename in the folder, remove the whitespace.\n",
    "# and compare with the images in dfs2.Filename\n",
    "\n",
    "# if found, mark it in dfs2"
   ]
  },
  {
   "cell_type": "code",
   "execution_count": null,
   "metadata": {},
   "outputs": [],
   "source": [
    "# open a file and check the label, if they match the image"
   ]
  },
  {
   "cell_type": "code",
   "execution_count": 8,
   "metadata": {},
   "outputs": [],
   "source": [
    "import os\n",
    "import cv2\n",
    "import matplotlib.pyplot as plt"
   ]
  },
  {
   "cell_type": "code",
   "execution_count": null,
   "metadata": {},
   "outputs": [],
   "source": []
  },
  {
   "cell_type": "code",
   "execution_count": 11,
   "metadata": {},
   "outputs": [
    {
     "name": "stdout",
     "output_type": "stream",
     "text": [
      "data/bainbridge_10k/db10k_faces/FaceImages/Google_1_Danielle Goble_5_oval.jpg\n"
     ]
    }
   ],
   "source": [
    "fn = dfs1.iloc[0].Filename\n",
    "images_dir = '../data/bainbridge_10k/db10k_faces/FaceImages' \n",
    "img_loc = os.path.join(images_dir, fn)\n",
    "print(img_loc)\n",
    "image = cv2.imread(img_loc)#.astype(np.float32)"
   ]
  },
  {
   "cell_type": "code",
   "execution_count": 12,
   "metadata": {},
   "outputs": [
    {
     "data": {
      "image/png": "[encoded data removed]",
      "text/plain": [
       "<Figure size 432x288 with 1 Axes>"
      ]
     },
     "metadata": {
      "needs_background": "light"
     },
     "output_type": "display_data"
    }
   ],
   "source": [
    "plt.imshow(image) # works, but colors are strange, maybe RGB vs BGR\n",
    "plt.show()"
   ]
  },
  {
   "cell_type": "markdown",
   "metadata": {},
   "source": [
    "This is good.\n",
    "\n",
    "Filenames in the label file correspond to images in the folder with 10k images.\n",
    "\n",
    "Sadly, I don't have labels on 10k images, but only on 2k.\n",
    "\n",
    "Not enough for my machine learning algo, I guess..."
   ]
  },
  {
   "cell_type": "code",
   "execution_count": null,
   "metadata": {},
   "outputs": [],
   "source": []
  }
 ],
 "metadata": {
  "kernelspec": {
   "display_name": "Python 3",
   "language": "python",
   "name": "python3"
  },
  "language_info": {
   "codemirror_mode": {
    "name": "ipython",
    "version": 3
   },
   "file_extension": ".py",
   "mimetype": "text/x-python",
   "name": "python",
   "nbconvert_exporter": "python",
   "pygments_lexer": "ipython3",
   "version": "3.7.6"
  }
 },
 "nbformat": 4,
 "nbformat_minor": 4
}
