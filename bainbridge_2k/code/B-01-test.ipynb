{
 "cells": [
  {
   "cell_type": "markdown",
   "metadata": {},
   "source": [
    "# compare saved models on test data"
   ]
  },
  {
   "cell_type": "code",
   "execution_count": 1,
   "metadata": {},
   "outputs": [],
   "source": [
    "import torch\n",
    "import matplotlib.pyplot as plt\n",
    "import seaborn as sns"
   ]
  },
  {
   "cell_type": "code",
   "execution_count": 2,
   "metadata": {},
   "outputs": [
    {
     "name": "stdout",
     "output_type": "stream",
     "text": [
      "torch.cuda.is_available():  True\n"
     ]
    }
   ],
   "source": [
    "images_test_dir = '../images_test/'\n",
    "# to build PATH to save the best model\n",
    "model_dir = 'myModels/best/'\n",
    "# where to save plots from evaluation on the test set\n",
    "test_plots_dir = 'test_plots/'\n",
    "# eventually do evaluation for all models in model_dir\n",
    "# for now load a single model and get it to do predictions\n",
    "device = torch.device(\"cuda:0\" if torch.cuda.is_available() else \"cpu\")\n",
    "print (\"torch.cuda.is_available(): \", torch.cuda.is_available())"
   ]
  },
  {
   "cell_type": "markdown",
   "metadata": {},
   "source": [
    "# load model(s)"
   ]
  },
  {
   "cell_type": "markdown",
   "metadata": {},
   "source": [
    "## load one model\n",
    "run one of the cells. Each cell gets a PATH to a saved model in a *.pt-file and defines the model (the same modell class or type as the saved model)."
   ]
  },
  {
   "cell_type": "code",
   "execution_count": 3,
   "metadata": {},
   "outputs": [
    {
     "data": {
      "text/plain": [
       "MyNeuralNetwork3(\n",
       "  (conv1): Conv2d(3, 4, kernel_size=(3, 3), stride=(1, 1), padding=(1, 1))\n",
       "  (pool1): MaxPool2d(kernel_size=3, stride=2, padding=0, dilation=1, ceil_mode=False)\n",
       "  (dropout1): Dropout2d(p=0.25, inplace=False)\n",
       "  (fc1): Linear(in_features=3844, out_features=2, bias=True)\n",
       "  (fc2): Linear(in_features=2, out_features=2, bias=True)\n",
       ")"
      ]
     },
     "execution_count": 3,
     "metadata": {},
     "output_type": "execute_result"
    }
   ],
   "source": [
    "from myModels import myModels as mm # mm = myModels\n",
    "\n",
    "PATH = model_dir+'MyNeuralNetwork3_acc9300.pt'\n",
    "model = mm.MyNeuralNetwork3()\n",
    "model.load_state_dict(torch.load(PATH))\n",
    "\n",
    "model.eval() # we want to do predictions, not training\n",
    "model.to(device)\n",
    "# Make sure to call input = input.to(device) on any input tensors that you feed to the model"
   ]
  },
  {
   "cell_type": "code",
   "execution_count": 4,
   "metadata": {},
   "outputs": [
    {
     "data": {
      "text/plain": [
       "ResNet(\n",
       "  (conv1): Conv2d(3, 64, kernel_size=(7, 7), stride=(2, 2), padding=(3, 3), bias=False)\n",
       "  (bn1): BatchNorm2d(64, eps=1e-05, momentum=0.1, affine=True, track_running_stats=True)\n",
       "  (relu): ReLU(inplace=True)\n",
       "  (maxpool): MaxPool2d(kernel_size=3, stride=2, padding=1, dilation=1, ceil_mode=False)\n",
       "  (layer1): Sequential(\n",
       "    (0): BasicBlock(\n",
       "      (conv1): Conv2d(64, 64, kernel_size=(3, 3), stride=(1, 1), padding=(1, 1), bias=False)\n",
       "      (bn1): BatchNorm2d(64, eps=1e-05, momentum=0.1, affine=True, track_running_stats=True)\n",
       "      (relu): ReLU(inplace=True)\n",
       "      (conv2): Conv2d(64, 64, kernel_size=(3, 3), stride=(1, 1), padding=(1, 1), bias=False)\n",
       "      (bn2): BatchNorm2d(64, eps=1e-05, momentum=0.1, affine=True, track_running_stats=True)\n",
       "    )\n",
       "    (1): BasicBlock(\n",
       "      (conv1): Conv2d(64, 64, kernel_size=(3, 3), stride=(1, 1), padding=(1, 1), bias=False)\n",
       "      (bn1): BatchNorm2d(64, eps=1e-05, momentum=0.1, affine=True, track_running_stats=True)\n",
       "      (relu): ReLU(inplace=True)\n",
       "      (conv2): Conv2d(64, 64, kernel_size=(3, 3), stride=(1, 1), padding=(1, 1), bias=False)\n",
       "      (bn2): BatchNorm2d(64, eps=1e-05, momentum=0.1, affine=True, track_running_stats=True)\n",
       "    )\n",
       "  )\n",
       "  (layer2): Sequential(\n",
       "    (0): BasicBlock(\n",
       "      (conv1): Conv2d(64, 128, kernel_size=(3, 3), stride=(2, 2), padding=(1, 1), bias=False)\n",
       "      (bn1): BatchNorm2d(128, eps=1e-05, momentum=0.1, affine=True, track_running_stats=True)\n",
       "      (relu): ReLU(inplace=True)\n",
       "      (conv2): Conv2d(128, 128, kernel_size=(3, 3), stride=(1, 1), padding=(1, 1), bias=False)\n",
       "      (bn2): BatchNorm2d(128, eps=1e-05, momentum=0.1, affine=True, track_running_stats=True)\n",
       "      (downsample): Sequential(\n",
       "        (0): Conv2d(64, 128, kernel_size=(1, 1), stride=(2, 2), bias=False)\n",
       "        (1): BatchNorm2d(128, eps=1e-05, momentum=0.1, affine=True, track_running_stats=True)\n",
       "      )\n",
       "    )\n",
       "    (1): BasicBlock(\n",
       "      (conv1): Conv2d(128, 128, kernel_size=(3, 3), stride=(1, 1), padding=(1, 1), bias=False)\n",
       "      (bn1): BatchNorm2d(128, eps=1e-05, momentum=0.1, affine=True, track_running_stats=True)\n",
       "      (relu): ReLU(inplace=True)\n",
       "      (conv2): Conv2d(128, 128, kernel_size=(3, 3), stride=(1, 1), padding=(1, 1), bias=False)\n",
       "      (bn2): BatchNorm2d(128, eps=1e-05, momentum=0.1, affine=True, track_running_stats=True)\n",
       "    )\n",
       "  )\n",
       "  (layer3): Sequential(\n",
       "    (0): BasicBlock(\n",
       "      (conv1): Conv2d(128, 256, kernel_size=(3, 3), stride=(2, 2), padding=(1, 1), bias=False)\n",
       "      (bn1): BatchNorm2d(256, eps=1e-05, momentum=0.1, affine=True, track_running_stats=True)\n",
       "      (relu): ReLU(inplace=True)\n",
       "      (conv2): Conv2d(256, 256, kernel_size=(3, 3), stride=(1, 1), padding=(1, 1), bias=False)\n",
       "      (bn2): BatchNorm2d(256, eps=1e-05, momentum=0.1, affine=True, track_running_stats=True)\n",
       "      (downsample): Sequential(\n",
       "        (0): Conv2d(128, 256, kernel_size=(1, 1), stride=(2, 2), bias=False)\n",
       "        (1): BatchNorm2d(256, eps=1e-05, momentum=0.1, affine=True, track_running_stats=True)\n",
       "      )\n",
       "    )\n",
       "    (1): BasicBlock(\n",
       "      (conv1): Conv2d(256, 256, kernel_size=(3, 3), stride=(1, 1), padding=(1, 1), bias=False)\n",
       "      (bn1): BatchNorm2d(256, eps=1e-05, momentum=0.1, affine=True, track_running_stats=True)\n",
       "      (relu): ReLU(inplace=True)\n",
       "      (conv2): Conv2d(256, 256, kernel_size=(3, 3), stride=(1, 1), padding=(1, 1), bias=False)\n",
       "      (bn2): BatchNorm2d(256, eps=1e-05, momentum=0.1, affine=True, track_running_stats=True)\n",
       "    )\n",
       "  )\n",
       "  (layer4): Sequential(\n",
       "    (0): BasicBlock(\n",
       "      (conv1): Conv2d(256, 512, kernel_size=(3, 3), stride=(2, 2), padding=(1, 1), bias=False)\n",
       "      (bn1): BatchNorm2d(512, eps=1e-05, momentum=0.1, affine=True, track_running_stats=True)\n",
       "      (relu): ReLU(inplace=True)\n",
       "      (conv2): Conv2d(512, 512, kernel_size=(3, 3), stride=(1, 1), padding=(1, 1), bias=False)\n",
       "      (bn2): BatchNorm2d(512, eps=1e-05, momentum=0.1, affine=True, track_running_stats=True)\n",
       "      (downsample): Sequential(\n",
       "        (0): Conv2d(256, 512, kernel_size=(1, 1), stride=(2, 2), bias=False)\n",
       "        (1): BatchNorm2d(512, eps=1e-05, momentum=0.1, affine=True, track_running_stats=True)\n",
       "      )\n",
       "    )\n",
       "    (1): BasicBlock(\n",
       "      (conv1): Conv2d(512, 512, kernel_size=(3, 3), stride=(1, 1), padding=(1, 1), bias=False)\n",
       "      (bn1): BatchNorm2d(512, eps=1e-05, momentum=0.1, affine=True, track_running_stats=True)\n",
       "      (relu): ReLU(inplace=True)\n",
       "      (conv2): Conv2d(512, 512, kernel_size=(3, 3), stride=(1, 1), padding=(1, 1), bias=False)\n",
       "      (bn2): BatchNorm2d(512, eps=1e-05, momentum=0.1, affine=True, track_running_stats=True)\n",
       "    )\n",
       "  )\n",
       "  (avgpool): AdaptiveAvgPool2d(output_size=(1, 1))\n",
       "  (fc): Linear(in_features=512, out_features=2, bias=True)\n",
       ")"
      ]
     },
     "execution_count": 4,
     "metadata": {},
     "output_type": "execute_result"
    }
   ],
   "source": [
    "from torchvision import models\n",
    "import torch.nn as nn\n",
    "\n",
    "PATH = model_dir+'resnet18_pretrained.pt'\n",
    "model = models.resnet18(pretrained=True)\n",
    "# adapt model as in training , repeat the transfer part\n",
    "num_ftrs = model.fc.in_features\n",
    "model.fc = nn.Linear(num_ftrs, 2)\n",
    "# now model fits the model we saved the parameters for\n",
    "\n",
    "model.load_state_dict(torch.load(PATH))\n",
    "\n",
    "model.eval() # we want to do predictions, not training\n",
    "model.to(device)\n",
    "# Make sure to call input = input.to(device) on any input tensors that you feed to the model"
   ]
  },
  {
   "cell_type": "markdown",
   "metadata": {},
   "source": [
    "# test data set"
   ]
  },
  {
   "cell_type": "code",
   "execution_count": 5,
   "metadata": {},
   "outputs": [
    {
     "name": "stdout",
     "output_type": "stream",
     "text": [
      "images in images test dir ../images_test/ : \n",
      "100\n"
     ]
    }
   ],
   "source": [
    "import test\n",
    "import pandas as pd\n",
    "from torchvision import transforms, utils\n",
    "\n",
    "print('images in images test dir '+ images_test_dir +' : ' )\n",
    "!ls $images_test_dir | wc -l \n",
    "\n",
    "# imgH, imgW = model.get_img_shape()\n",
    "# for resNet\n",
    "imgH = imgW = 224\n",
    "\n",
    "transform = transforms.Compose([\n",
    "    transforms.Resize((imgH,imgW)), # imgH, imgW as required for model\n",
    "    transforms.ToTensor()\n",
    "])\n",
    "\n",
    "df = pd.read_csv('../meta/labels2k_A_test.csv', index_col=0) \n",
    "df.index=range(df.shape[0])\n",
    "setup = df[['Gender','Age','Race','newFilename']].copy()\n",
    "\n",
    "testset = test.TestSet(images_dir=images_test_dir , setup=setup, transform=transform)\n",
    "batch_size=5 # this should be automated # this can be set to any value! 1,5,10, 100 (=size of test set)\n",
    "test_loader = torch.utils.data.DataLoader(testset, batch_size=batch_size, shuffle=False)"
   ]
  },
  {
   "cell_type": "code",
   "execution_count": 6,
   "metadata": {},
   "outputs": [],
   "source": [
    "from sklearn.metrics import confusion_matrix, f1_score\n",
    "import numpy as np\n",
    "\n",
    "def run_test_short(data_loader, model):\n",
    "    \n",
    "    # running statistic ends with _r\n",
    "    error_eg_r = np.zeros((7,2))\n",
    "    tots_r = np.zeros((7,2))\n",
    "    \n",
    "    error_rel = np.zeros((3,2))\n",
    "\n",
    "    # do not compute gradients\n",
    "    with torch.no_grad():\n",
    "        for inputs, labels in data_loader:\n",
    "            \n",
    "            # batch statistic end with _b\n",
    "            error_eg_b = np.zeros((7,2))\n",
    "            tots_b = np.zeros((7,2))\n",
    "            \n",
    "            inputs = inputs.to(device)\n",
    "            outputs = model(inputs)\n",
    "            _, preds = torch.max(outputs, 1)\n",
    "            preds = preds.tolist()\n",
    "        \n",
    "            labels_e = labels['ethnicity'].tolist()\n",
    "            labels_f = labels['file']\n",
    "            labels_g = labels['gender'].tolist()\n",
    "              \n",
    "            diff = [i-j for (i,j) in zip(labels_g,preds)] # values -1,0,1\n",
    "            for d , e , g  in zip(diff, labels_e, labels_g):\n",
    "                error_eg_b[e,g] += d*d # error : d==1,-1 then d*d = 1, so we add 1 to the error matrix at [e,g]\n",
    "                tots_b[e,g]+=1\n",
    "                \n",
    "            # running statistic, ends with _r\n",
    "            error_eg_r += error_eg_b\n",
    "            tots_r += tots_b\n",
    "\n",
    "    error_eg_r[3,:] += error_eg_r[0,:]+error_eg_r[4:7,:].sum(axis=0)\n",
    "    error_eg_r = error_eg_r[1:4]\n",
    "    \n",
    "    tots_r[3,:] += tots_r[0,:]+tots_r[4:7,:].sum(axis=0)\n",
    "    tots_r = tots_r[1:4]\n",
    "    \n",
    "    return error_eg_r , tots_r \n",
    "\n",
    "def matrix_division (error, tots):\n",
    "    '''given 2 matrices of same shape, divide one by the other, element wise'''\n",
    "    assert error.shape == tots.shape, 'matrices have to be of the same shape.'\n",
    "    \n",
    "    error_rel = np.zeros(error.shape)\n",
    "    \n",
    "    for e in range(error.shape[0]):\n",
    "        for g in range(error.shape[1]):\n",
    "            if tots[e,g]==0:\n",
    "                error_rel[e,g]=None\n",
    "            else:\n",
    "                error_rel[e,g] = error[e,g] / tots[e,g]\n",
    "    return error_rel"
   ]
  },
  {
   "cell_type": "markdown",
   "metadata": {},
   "source": [
    "The next cell does the work and produces the output."
   ]
  },
  {
   "cell_type": "code",
   "execution_count": 7,
   "metadata": {},
   "outputs": [
    {
     "name": "stdout",
     "output_type": "stream",
     "text": [
      "in TestSet.len returning : 100\n",
      "accuracy :  0.95\n",
      "highest error rate in ethnicities 1,2 : 0.16666666666666666\n"
     ]
    },
    {
     "data": {
      "image/png": "[encoded data removed]",
      "text/plain": [
       "<Figure size 432x288 with 2 Axes>"
      ]
     },
     "metadata": {
      "needs_background": "light"
     },
     "output_type": "display_data"
    }
   ],
   "source": [
    "\n",
    "err, tot = run_test_short(test_loader, model)\n",
    "err_rel = matrix_division(err,tot)\n",
    "#print(err_rel)\n",
    "sns.heatmap(err_rel, linewidth=0.5, annot=True)\n",
    "plt.title('error rates for ethnicity gender combinations\\n'+PATH)\n",
    "plt.xlabel('gender')\n",
    "plt.ylabel('ethnicitiy')\n",
    "try:\n",
    "    plt.savefig(test_plots_dir+model.get_model_name()+'_error.png')\n",
    "except:\n",
    "    plt.savefig(test_plots_dir+'resnet_error.png')\n",
    "#plt.show()\n",
    "# put these numbers in an np array or pandas df\n",
    "print('accuracy : ' , (tot.sum() - err.sum()) / tot.sum() )\n",
    "print('highest error rate in ethnicities 1,2 :' , max(np.ravel(err_rel[0:2,:])))"
   ]
  },
  {
   "cell_type": "markdown",
   "metadata": {},
   "source": [
    "For this model MyNeuralNetwork3 the validation accuracy was .93, on the test set we gor .87\n",
    "So the model got lucky on the dev set but not on the test set. too bad ;-)"
   ]
  },
  {
   "cell_type": "code",
   "execution_count": null,
   "metadata": {},
   "outputs": [],
   "source": []
  },
  {
   "cell_type": "code",
   "execution_count": null,
   "metadata": {},
   "outputs": [],
   "source": [
    "   "
   ]
  },
  {
   "cell_type": "code",
   "execution_count": null,
   "metadata": {},
   "outputs": [],
   "source": [
    "def run_test_0():\n",
    "    # running statistics end with _r\n",
    "    cfm_r = np.zeros((2,2))\n",
    "    recall_by_e_r = np.zeros((2,7,2))\n",
    "    f1_r = [] \n",
    "\n",
    "    # do not compute gradients\n",
    "    with torch.no_grad():\n",
    "        for inputs, labels in test_loader:\n",
    "        \n",
    "            inputs = inputs.to(device)\n",
    "            outputs = model(inputs)\n",
    "            _, preds = torch.max(outputs, 1)\n",
    "            preds = preds.tolist()\n",
    "        \n",
    "            labels_e = labels['ethnicity'].tolist()\n",
    "            labels_f = labels['file']\n",
    "            labels_g = labels['gender'].tolist()\n",
    "            labels_a = labels['age'].tolist()\n",
    "        \n",
    "            # batch statistics, end with _b\n",
    "            cfm_b = confusion_matrix(labels_g, preds, labels=[0,1])\n",
    "\n",
    "            recall_by_e_b = np.zeros((2,7,2), dtype=np.int8)\n",
    "            diff = [i-j for (i,j) in zip(labels_g,preds)] # values -1,0,1\n",
    "            for d , e , g  in zip(diff, labels_e, labels_g):\n",
    "                recall_by_e_b[d, e, g] += 1 \n",
    "                \n",
    "            # running statistics, end with _r\n",
    "            cfm_r += cfm_b\n",
    "            recall_by_e_r += recall_by_e_b\n",
    "\n",
    "    tn, fp, fn, tp = cfm_r.ravel()\n",
    "    f1_m = 2*tp/(2*tp+fp+fn) # male as positive class\n",
    "    f1_f = 2*tn/(2*tn+fp+fn) # female as positive class (or f1 for the negaive class)\n",
    "\n",
    "    #print('confusion matrix : \\n' , cfm_r )\n",
    "    #print('f1 score for the male/1 class: ' , round(f1_m,4) , '\\nf1 for female/0 class : ' , round(f1_f,4) )\n",
    "    df2 = pd.DataFrame(np.concatenate([recall_by_e_r[0,:,:],recall_by_e_r[1,:,:]], axis=1))\n",
    "    print('gender recall grouped by ethnicity:\\n' , df2)\n",
    "    \n",
    "    return df2"
   ]
  },
  {
   "cell_type": "code",
   "execution_count": 93,
   "metadata": {},
   "outputs": [
    {
     "name": "stdout",
     "output_type": "stream",
     "text": [
      "in TestSet.len returning : 100\n",
      "gender recall grouped by ethnicity:\n",
      "       0     1    2    3\n",
      "0   0.0   0.0  0.0  0.0\n",
      "1  32.0  40.0  3.0  7.0\n",
      "2   3.0   6.0  1.0  0.0\n",
      "3   2.0   1.0  0.0  0.0\n",
      "4   0.0   0.0  0.0  0.0\n",
      "5   2.0   1.0  0.0  1.0\n",
      "6   0.0   0.0  0.0  1.0\n"
     ]
    },
    {
     "data": {
      "text/plain": [
       "array([[32., 40.,  3.,  7.],\n",
       "       [ 3.,  6.,  1.,  0.],\n",
       "       [ 4.,  2.,  0.,  2.]])"
      ]
     },
     "execution_count": 93,
     "metadata": {},
     "output_type": "execute_result"
    }
   ],
   "source": [
    "df2 = run_test_0()\n",
    "a = df2.loc[[1,2,3]].to_numpy() # take 3 rows for ethnicities 1=white, 2=black, 3,4=...asian , 5=latinxplt.imshow(a, cmap='hot', interpolation='nearest')\n",
    "a[2,:]= a[2,:]+df2.loc[[0,4,5,6]].sum(axis=0) # add the other rows to the asian row , row 0 was for undecided ethnicity and is empty in the test set\n",
    "a"
   ]
  },
  {
   "cell_type": "code",
   "execution_count": 32,
   "metadata": {},
   "outputs": [],
   "source": [
    "# recall = tp/(tp+fn) for the positive class female (=0) or male (=1)\n",
    "# rows in a : [t*, t* , f* ,f*] correct classification (d=0) in the first 2 columns, misclassifications (d=1,-1) in the 3rd, 4th column\n",
    "# consider 0/female the positive class then the rows are [tp,tn,fn,fp] , because labeled females are gender 0 in columns 1 and 3 (0based column indexes: 0,2)\n",
    "# consider 1/male the positive class then the rows are [tn,tp,fp,fn]\n",
    "\n",
    "def tpr (b,g): # g in {0,1}, g+2 in {2,3}, so g,g+2 =0,2 or =1,3 the indices for recall in [t*,t*,f*,f*] depending on gender g\n",
    "    if b[g]+b[g+2]: # true when sum positive\n",
    "        return b[g]/(b[g]+b[g+2])\n",
    "    else:\n",
    "        return None\n",
    "    \n",
    "def re_call (a):\n",
    "    b = np.zeros((3,2))\n",
    "    for e in range(3):\n",
    "        for g in range(2):\n",
    "            b[e,g]= tpr(a[e,:],g)\n",
    "    return b # np.round(100*b,1)"
   ]
  },
  {
   "cell_type": "code",
   "execution_count": 21,
   "metadata": {},
   "outputs": [],
   "source": [
    "import seaborn as sns\n",
    "#import matplotlib.pylab as plt\n",
    "\n",
    "def heatmap_recall(b): \n",
    "    ax = sns.heatmap(b, linewidth=0.5, annot=True)\n",
    "    plt.title('recall of gender grouped by ethnicity')\n",
    "    plt.xlabel('each gender as positive class')\n",
    "    plt.ylabel('ethnicity')\n",
    "    plt.show()"
   ]
  }
 ],
 "metadata": {
  "kernelspec": {
   "display_name": "Python 3",
   "language": "python",
   "name": "python3"
  },
  "language_info": {
   "codemirror_mode": {
    "name": "ipython",
    "version": 3
   },
   "file_extension": ".py",
   "mimetype": "text/x-python",
   "name": "python",
   "nbconvert_exporter": "python",
   "pygments_lexer": "ipython3",
   "version": "3.7.6"
  }
 },
 "nbformat": 4,
 "nbformat_minor": 4
}
