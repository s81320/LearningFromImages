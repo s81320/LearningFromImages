{
 "cells": [
  {
   "cell_type": "markdown",
   "metadata": {},
   "source": [
    "Get data onto this server. To work with.\n",
    "\n",
    "Have the file in github or google drive."
   ]
  },
  {
   "cell_type": "markdown",
   "metadata": {},
   "source": [
    "The following works."
   ]
  },
  {
   "cell_type": "code",
   "execution_count": 6,
   "metadata": {},
   "outputs": [
    {
     "name": "stdout",
     "output_type": "stream",
     "text": [
      "Collecting wget\n",
      "  Downloading wget-3.2.zip (10 kB)\n",
      "Building wheels for collected packages: wget\n",
      "  Building wheel for wget (setup.py) ... \u001b[?25ldone\n",
      "\u001b[?25h  Created wheel for wget: filename=wget-3.2-py3-none-any.whl size=9681 sha256=403bca8fb47a8b621ffb77e5202bee4a20af96e3b435e124af38b50331edf6da\n",
      "  Stored in directory: /home/jovyan/.cache/pip/wheels/a1/b6/7c/0e63e34eb06634181c63adacca38b79ff8f35c37e3c13e3c02\n",
      "Successfully built wget\n",
      "Installing collected packages: wget\n",
      "Successfully installed wget-3.2\n"
     ]
    }
   ],
   "source": [
    "!pip install wget"
   ]
  },
  {
   "cell_type": "code",
   "execution_count": 7,
   "metadata": {},
   "outputs": [],
   "source": [
    "import wget"
   ]
  },
  {
   "cell_type": "code",
   "execution_count": 8,
   "metadata": {},
   "outputs": [],
   "source": [
    "url = 'http://www.futurecrew.com/skaven/song_files/mp3/razorback.mp3'\n",
    "filename = wget.download(url)"
   ]
  },
  {
   "cell_type": "code",
   "execution_count": 5,
   "metadata": {},
   "outputs": [
    {
     "data": {
      "text/plain": [
       "'razorback 1.mp3'"
      ]
     },
     "execution_count": 5,
     "metadata": {},
     "output_type": "execute_result"
    }
   ],
   "source": [
    "filename"
   ]
  },
  {
   "cell_type": "markdown",
   "metadata": {},
   "source": [
    "I did not manage to download from my google drive with only wget."
   ]
  },
  {
   "cell_type": "markdown",
   "metadata": {},
   "source": [
    "The following works, too."
   ]
  },
  {
   "cell_type": "code",
   "execution_count": 1,
   "metadata": {},
   "outputs": [
    {
     "name": "stdout",
     "output_type": "stream",
     "text": [
      "Collecting gdown\n",
      "  Using cached gdown-3.12.2.tar.gz (8.2 kB)\n",
      "  Installing build dependencies ... \u001b[?25ldone\n",
      "\u001b[?25h  Getting requirements to build wheel ... \u001b[?25ldone\n",
      "\u001b[?25h    Preparing wheel metadata ... \u001b[?25ldone\n",
      "\u001b[?25hCollecting filelock\n",
      "  Using cached filelock-3.0.12-py3-none-any.whl (7.6 kB)\n",
      "Requirement already satisfied: requests[socks] in /opt/conda/lib/python3.7/site-packages (from gdown) (2.24.0)\n",
      "Requirement already satisfied: six in /opt/conda/lib/python3.7/site-packages (from gdown) (1.15.0)\n",
      "Requirement already satisfied: tqdm in /opt/conda/lib/python3.7/site-packages (from gdown) (4.46.1)\n",
      "Requirement already satisfied: chardet<4,>=3.0.2 in /opt/conda/lib/python3.7/site-packages (from requests[socks]->gdown) (3.0.4)\n",
      "Requirement already satisfied: urllib3!=1.25.0,!=1.25.1,<1.26,>=1.21.1 in /opt/conda/lib/python3.7/site-packages (from requests[socks]->gdown) (1.25.9)\n",
      "Requirement already satisfied: idna<3,>=2.5 in /opt/conda/lib/python3.7/site-packages (from requests[socks]->gdown) (2.9)\n",
      "Requirement already satisfied: certifi>=2017.4.17 in /opt/conda/lib/python3.7/site-packages (from requests[socks]->gdown) (2020.6.20)\n",
      "Requirement already satisfied: PySocks!=1.5.7,>=1.5.6; extra == \"socks\" in /opt/conda/lib/python3.7/site-packages (from requests[socks]->gdown) (1.7.1)\n",
      "Building wheels for collected packages: gdown\n",
      "  Building wheel for gdown (PEP 517) ... \u001b[?25ldone\n",
      "\u001b[?25h  Created wheel for gdown: filename=gdown-3.12.2-py3-none-any.whl size=9681 sha256=380aad6447b5ab9e37a7a886e2a60fcb3da91675bf730db5addcd315eab3d470\n",
      "  Stored in directory: /home/jovyan/.cache/pip/wheels/ba/e0/7e/726e872a53f7358b4b96a9975b04e98113b005cd8609a63abc\n",
      "Successfully built gdown\n",
      "Installing collected packages: filelock, gdown\n",
      "Successfully installed filelock-3.0.12 gdown-3.12.2\n"
     ]
    },
    {
     "name": "stderr",
     "output_type": "stream",
     "text": [
      "Downloading...\n",
      "From: https://drive.google.com/uc?id=0B9P1L--7Wd2vNm9zMTJWOGxobkU\n",
      "To: /home/jovyan/LFI/20150428_collected_images.tgz\n",
      "44.7MB [00:00, 54.7MB/s]\n"
     ]
    },
    {
     "name": "stdout",
     "output_type": "stream",
     "text": [
      "Computing MD5: 20150428_collected_images.tgz\n",
      "MD5 matches: 20150428_collected_images.tgz\n"
     ]
    },
    {
     "data": {
      "text/plain": [
       "'20150428_collected_images.tgz'"
      ]
     },
     "execution_count": 1,
     "metadata": {},
     "output_type": "execute_result"
    }
   ],
   "source": [
    "!pip install gdown\n",
    "\n",
    "import gdown\n",
    "\n",
    "url = 'https://drive.google.com/uc?id=0B9P1L--7Wd2vNm9zMTJWOGxobkU'\n",
    "output = '20150428_collected_images.tgz'\n",
    "gdown.download(url, output, quiet=False)\n",
    "\n",
    "md5 = 'fa837a88f0c40c513d975104edf3da17'\n",
    "gdown.cached_download(url, output, md5=md5, postprocess=gdown.extractall)"
   ]
  },
  {
   "cell_type": "markdown",
   "metadata": {},
   "source": [
    "This is how I adapted it to my google drive file.\n",
    "\n",
    "After this succeeded I disable the link. So to run this again I have to reset set the link."
   ]
  },
  {
   "cell_type": "code",
   "execution_count": 3,
   "metadata": {},
   "outputs": [
    {
     "name": "stderr",
     "output_type": "stream",
     "text": [
      "Downloading...\n",
      "From: https://drive.google.com/uc?id=1q0fw4mn0dHL2g8KS2W-olWgRQYRb70TS\n",
      "To: /home/jovyan/LFI/tenkay.zip\n",
      "156MB [00:01, 89.5MB/s] \n"
     ]
    },
    {
     "data": {
      "text/plain": [
       "'tenkay.zip'"
      ]
     },
     "execution_count": 3,
     "metadata": {},
     "output_type": "execute_result"
    }
   ],
   "source": [
    "# this works: url = 'https://drive.google.com/uc?id=0B9P1L--7Wd2vNm9zMTJWOGxobkU'\n",
    "\n",
    "# copy paste from google drive, link to share\n",
    "# https://drive.google.com/file/d/1q0fw4mn0dHL2g8KS2W-olWgRQYRb70TS/view?usp=sharing\n",
    "# extract 1q0fw4mn0dHL2g8KS2W-olWgRQYRb70TS\n",
    "# and replace the ... with it 'https://drive.google.com/uc?id=...'\n",
    "\n",
    "url = 'https://drive.google.com/uc?id=1q0fw4mn0dHL2g8KS2W-olWgRQYRb70TS'\n",
    "output = 'tenkay.zip'\n",
    "gdown.download(url, output, quiet=False)\n"
   ]
  },
  {
   "cell_type": "markdown",
   "metadata": {},
   "source": [
    "unzip file in the right place!\n",
    "\n",
    "I opened a terminal , cd'd to the directory and called unzip FILENAME\n",
    "\n",
    "worked."
   ]
  },
  {
   "cell_type": "markdown",
   "metadata": {},
   "source": [
    "The following did work.\n",
    "\n",
    "Upload the file to github, clone the github to the notebook environment.\n",
    "\n",
    "Not legal I guess for data that should not go public...."
   ]
  },
  {
   "cell_type": "code",
   "execution_count": 2,
   "metadata": {},
   "outputs": [
    {
     "name": "stdout",
     "output_type": "stream",
     "text": [
      "Cloning into 'lfi'...\n",
      "remote: Enumerating objects: 61, done.\u001b[K\n",
      "remote: Counting objects: 100% (61/61), done.\u001b[K\n",
      "remote: Compressing objects: 100% (48/48), done.\u001b[K\n",
      "remote: Total 61 (delta 10), reused 0 (delta 0), pack-reused 0\u001b[K\n",
      "Unpacking objects: 100% (61/61), done.\n"
     ]
    }
   ],
   "source": [
    "!git clone https://github.com/s81320/lfi\n"
   ]
  },
  {
   "cell_type": "code",
   "execution_count": 3,
   "metadata": {},
   "outputs": [
    {
     "name": "stdout",
     "output_type": "stream",
     "text": [
      "data\t\t\t  razorback.mp3\t\t\t     Untitled1.ipynb\r\n",
      "lfi\t\t\t  requirements.txt\t\t     Untitled2.ipynb\r\n",
      "load_bw.ipynb\t\t  take-01.ipynb\t\t\t     Untitled3.ipynb\r\n",
      "load_color.ipynb\t  take-02.ipynb\t\t\t     Untitled4.ipynb\r\n",
      "load-label-img.ipynb\t  take-03.ipynb\t\t\t     Untitled5.ipynb\r\n",
      "numpy-tensor-numpy.ipynb  tutorial_img_classification.ipynb  Untitled.ipynb\r\n"
     ]
    }
   ],
   "source": [
    "!ls"
   ]
  },
  {
   "cell_type": "code",
   "execution_count": 6,
   "metadata": {},
   "outputs": [],
   "source": [
    "!cd lfi"
   ]
  },
  {
   "cell_type": "code",
   "execution_count": null,
   "metadata": {},
   "outputs": [],
   "source": []
  },
  {
   "cell_type": "code",
   "execution_count": 7,
   "metadata": {},
   "outputs": [
    {
     "name": "stdout",
     "output_type": "stream",
     "text": [
      "total 7212\r\n",
      "drwxrwsr-x  5 jovyan users    4096 Jan 30 12:30 .\r\n",
      "drwxrwsrwx 10 root   users    4096 Jan 30 12:02 ..\r\n",
      "drwxrwsr-x  6 jovyan users    4096 Jan 30 12:12 data\r\n",
      "drwxrwsr-x  2 jovyan users    4096 Jan 26 21:16 .ipynb_checkpoints\r\n",
      "drwxr-sr-x  5 jovyan users    4096 Jan 30 12:30 lfi\r\n",
      "-rw-rw-r--  1 jovyan users  339743 Jan 14 13:05 load_bw.ipynb\r\n",
      "-rw-rw-r--  1 jovyan users   14110 Jan 16 20:49 load_color.ipynb\r\n",
      "-rw-rw-r--  1 jovyan users  425181 Jan 22 08:05 load-label-img.ipynb\r\n",
      "-rw-rw-r--  1 jovyan users  372977 Jan 16 20:00 numpy-tensor-numpy.ipynb\r\n",
      "-rw-rw-r--  1 jovyan users 3841532 Jan 26 22:07 razorback.mp3\r\n",
      "-rw-rw-r--  1 jovyan users      61 Jan 26 21:27 requirements.txt\r\n",
      "-rw-rw-r--  1 jovyan users  553375 Jan 24 11:28 take-01.ipynb\r\n",
      "-rw-rw-r--  1 jovyan users  808204 Jan 24 21:32 take-02.ipynb\r\n",
      "-rw-rw-r--  1 jovyan users  807983 Jan 24 21:34 take-03.ipynb\r\n",
      "-rw-rw-r--  1 jovyan users   65726 Jan 21 20:23 tutorial_img_classification.ipynb\r\n",
      "-rw-rw-r--  1 jovyan users   65668 Jan 16 19:49 Untitled1.ipynb\r\n",
      "-rw-rw-r--  1 jovyan users    1097 Jan 16 20:13 Untitled2.ipynb\r\n",
      "-rw-rw-r--  1 jovyan users   12252 Jan 16 20:26 Untitled3.ipynb\r\n",
      "-rw-rw-r--  1 jovyan users    4090 Jan 22 13:25 Untitled4.ipynb\r\n",
      "-rw-rw-r--  1 jovyan users   14367 Jan 30 12:29 Untitled5.ipynb\r\n",
      "-rw-rw-r--  1 jovyan users    2813 Jan 14 11:22 Untitled.ipynb\r\n"
     ]
    }
   ],
   "source": [
    "!ls -la"
   ]
  }
 ],
 "metadata": {
  "kernelspec": {
   "display_name": "Python 3",
   "language": "python",
   "name": "python3"
  },
  "language_info": {
   "codemirror_mode": {
    "name": "ipython",
    "version": 3
   },
   "file_extension": ".py",
   "mimetype": "text/x-python",
   "name": "python",
   "nbconvert_exporter": "python",
   "pygments_lexer": "ipython3",
   "version": "3.7.6"
  }
 },
 "nbformat": 4,
 "nbformat_minor": 4
}
